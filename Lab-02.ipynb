{
 "cells": [
  {
   "cell_type": "markdown",
   "metadata": {},
   "source": [
    "LAB 02 THE NAME COLLECTER'S QUEST"
   ]
  },
  {
   "cell_type": "code",
   "execution_count": 15,
   "metadata": {},
   "outputs": [],
   "source": [
    "listvillage=[]              #empty list to add name of the villager"
   ]
  },
  {
   "cell_type": "markdown",
   "metadata": {},
   "source": [
    "issue: solution\n",
    "ALEX CAN ENTER THE NAME IN LOWER CASE? SO MAKING IT IN UPPER CASE \n",
    "ALEX CAN ENTER THE SPACES IN THE STARTING OR ENDING OF THE NAME? SO REMOVING THE SPACES FROM THE NAME\n",
    "ALEX CAN ENTER ANY NUMBER OR SPECIAL CHARACTER IN THE NAME OF VILLAGER ? SO CHECKING THE NAME DOESN'T CONTAIN ANY OF IT\n"
   ]
  },
  {
   "cell_type": "code",
   "execution_count": 14,
   "metadata": {},
   "outputs": [],
   "source": [
    "\n",
    "def functioncall():\n",
    "    name = input(\"enter the name\")          #Entering the name of the villager\n",
    "    name = name.upper()                     #Making the name of the villager in upper case\n",
    "    name = name.strip()                     #Removing the whitespaces from the name entered by Alex \n",
    "    x = name.isalpha()                      #Checking that there is no special character in the name\n",
    "    if x==True:\n",
    "        if name == 'Q':                     #If Alex enter Q character the list of the villager would print\n",
    "            exit                            #Will exit from if statement\n",
    "        else:\n",
    "            if(name in listvillage):        #If the name is already in the list it will not enter again in the list\n",
    "                print(\"name exist in the list\")     #Will print name exist in the list \n",
    "            else:\n",
    "                listvillage.append(name)    #name will be entered in the list\n",
    "    else:\n",
    "        print(\"enter the correct string\")   #If there is a Special character it will ask to enter the correct string\n",
    "    \n",
    "    listvillage.sort()                      #Making the list alphabetically\n",
    "    print(listvillage)                      #printing the list\n"
   ]
  },
  {
   "cell_type": "code",
   "execution_count": 20,
   "metadata": {},
   "outputs": [
    {
     "name": "stdout",
     "output_type": "stream",
     "text": [
      "['ADITYA', 'HITANSHI', 'SIDDHARTH', 'TANUJA']\n"
     ]
    }
   ],
   "source": [
    "\n",
    "functioncall()                      #calling the function "
   ]
  },
  {
   "cell_type": "code",
   "execution_count": null,
   "metadata": {},
   "outputs": [],
   "source": []
  },
  {
   "cell_type": "code",
   "execution_count": null,
   "metadata": {},
   "outputs": [],
   "source": []
  }
 ],
 "metadata": {
  "kernelspec": {
   "display_name": "Python 3",
   "language": "python",
   "name": "python3"
  },
  "language_info": {
   "codemirror_mode": {
    "name": "ipython",
    "version": 3
   },
   "file_extension": ".py",
   "mimetype": "text/x-python",
   "name": "python",
   "nbconvert_exporter": "python",
   "pygments_lexer": "ipython3",
   "version": "3.11.4"
  },
  "orig_nbformat": 4
 },
 "nbformat": 4,
 "nbformat_minor": 2
}
