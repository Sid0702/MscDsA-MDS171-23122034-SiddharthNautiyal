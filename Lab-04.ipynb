{
 "cells": [
  {
   "cell_type": "markdown",
   "metadata": {},
   "source": [
    "LAB 04 -A Taste of Success: The Restaurant Management System"
   ]
  },
  {
   "cell_type": "code",
   "execution_count": 1,
   "metadata": {},
   "outputs": [],
   "source": [
    "def RMS(name , date , item , rate , qty , customercount): # define function\n",
    "    file = open(\"RMS.txt\", \"a+\") #open the file\n",
    "    file.write(\"\\nName = \"+name)\n",
    "    file.write(\"\\nDate = \"+date)\n",
    "    file.write(\"\\nItem Code = \"+item)\n",
    "    file.write(\"\\nQuantity = \"+str(qty))\n",
    "    file.write(\"\\nRate = \"+str(rate))\n",
    "    file.write(\"\\ncustomercount = \"+customercount)\n",
    "    file.write(\"\\n**************************************************************\")\n",
    "    file.close() #closing the file\n",
    "    return True"
   ]
  },
  {
   "cell_type": "code",
   "execution_count": 2,
   "metadata": {},
   "outputs": [
    {
     "data": {
      "text/plain": [
       "True"
      ]
     },
     "execution_count": 2,
     "metadata": {},
     "output_type": "execute_result"
    }
   ],
   "source": [
    "name = input(\"Enter the Name here: \")   #user input the name of the customer\n",
    "date = input(\"Enter the date: \")        #date \n",
    "item = input(\"Enter the item here: \")   #item placed\n",
    "initial_rate = int(input(\"Enter the rate of the item: \"))   #one quantity prize\n",
    "qty = int(input(\"Enter the quantity of the item\"))          #no of quantity entered \n",
    "customercount = input(\"Enter the customer count: \")         #no of customer \n",
    "rate=initial_rate*qty                                       #Bill\n",
    "RMS(name , date , item , rate , qty , customercount)        #calling the function"
   ]
  },
  {
   "cell_type": "code",
   "execution_count": 3,
   "metadata": {},
   "outputs": [
    {
     "name": "stdout",
     "output_type": "stream",
     "text": [
      "The total amount obtained in this day =  2050\n"
     ]
    }
   ],
   "source": [
    "#insights from the orders \n",
    "salescount = 0\n",
    "with open(\"RMS.txt\" , \"r+\") as file :  #used to open the file and close it\n",
    "    for line in file:                   #reading the line by line\n",
    "        if \"Rate\" in line:              #if there is rate in the line  it will execute the program to print the total amount of the day\n",
    "            \n",
    "            Rate = int(line.split(\"=\")[1].strip())\n",
    "            salescount += Rate\n",
    "print(\"The total amount obtained in this day = \" , salescount)      #printing the total amount of the day "
   ]
  },
  {
   "cell_type": "code",
   "execution_count": 4,
   "metadata": {},
   "outputs": [
    {
     "name": "stdout",
     "output_type": "stream",
     "text": [
      "The total customer obtained in this day = 17\n"
     ]
    }
   ],
   "source": [
    "#insights from the orders\n",
    "salescount = 0\n",
    "\n",
    "with open(\"RMS.txt\", \"r+\") as file:\n",
    "    for line in file:\n",
    "        if \"customercount\" in line:             #counting the total no of customer\n",
    "            Rate = int(line.split(\"=\")[1].strip())\n",
    "            salescount += Rate\n",
    "\n",
    "print(\"The total customer obtained in this day =\", salescount)     #printing the total no customer"
   ]
  },
  {
   "cell_type": "code",
   "execution_count": null,
   "metadata": {},
   "outputs": [],
   "source": []
  }
 ],
 "metadata": {
  "kernelspec": {
   "display_name": "Python 3",
   "language": "python",
   "name": "python3"
  },
  "language_info": {
   "codemirror_mode": {
    "name": "ipython",
    "version": 3
   },
   "file_extension": ".py",
   "mimetype": "text/x-python",
   "name": "python",
   "nbconvert_exporter": "python",
   "pygments_lexer": "ipython3",
   "version": "3.11.4"
  },
  "orig_nbformat": 4
 },
 "nbformat": 4,
 "nbformat_minor": 2
}
