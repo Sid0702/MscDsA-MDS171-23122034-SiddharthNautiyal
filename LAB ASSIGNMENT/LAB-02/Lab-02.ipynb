{
 "cells": [
  {
   "cell_type": "markdown",
   "metadata": {},
   "source": [
    "# LAB 02 \n",
    "\n",
    "THE NAME COLLECTER'S QUEST:-"
   ]
  },
  {
   "cell_type": "markdown",
   "metadata": {},
   "source": [
    "In a quaint little village named Harmonyville, there lived a curious individual named Alex. Alex was known for his passion for collecting names. His dream was to create an extensive list of unique names that would reflect the diversity and camaraderie of the village. Alex used to sit in the village junction; as the villagers passed, Alex eagerly approached them and asked for their names. With each encounter, they diligently recorded the names in his notepad.\n",
    "\n",
    "To keep things organized, You were one among the villagers and have decided to create a program to assist them in this endeavour. You asked Alex to begin by defining a list on his laptop instead of his notepad, and you started writing functions to add names.\n",
    "\n",
    "The function that you have defined should do\n",
    "\n",
    "Whenever a new name is encountered, record it.\n",
    "If an existing name comes, the program says the name exists.\n",
    "Alex makes a lot of mistakes; your program also has to do the necessary validations.\n",
    "The function quits when q is entered as a name and prints all the names in the list, and then he has to call the function.\n",
    "As a data analyst of the village, analyse the names in the list.\n",
    "Days turned into weeks and weeks into months. Alex's name collection grew beyond their wildest dreams. The villagers admired their dedication and the beautifully organized list they had created. Alex's program became a legend in Harmonyville, passed down from generation to generation.\n",
    "\n",
    "And so, in the heart of the village, Alex's legacy lived on - a story of names, community, and the power of coding to bring dreams to life."
   ]
  },
  {
   "cell_type": "code",
   "execution_count": 15,
   "metadata": {},
   "outputs": [],
   "source": [
    "listvillage=[]              #empty list to add name of the villager"
   ]
  },
  {
   "cell_type": "markdown",
   "metadata": {},
   "source": [
    "issue: solution\n",
    "ALEX CAN ENTER THE NAME IN LOWER CASE? SO MAKING IT IN UPPER CASE \n",
    "ALEX CAN ENTER THE SPACES IN THE STARTING OR ENDING OF THE NAME? SO REMOVING THE SPACES FROM THE NAME\n",
    "ALEX CAN ENTER ANY NUMBER OR SPECIAL CHARACTER IN THE NAME OF VILLAGER ? SO CHECKING THE NAME DOESN'T CONTAIN ANY OF IT\n"
   ]
  },
  {
   "cell_type": "code",
   "execution_count": 14,
   "metadata": {},
   "outputs": [],
   "source": [
    "\n",
    "def functioncall():\n",
    "    name = input(\"enter the name\")          #Entering the name of the villager\n",
    "    name = name.upper()                     #Making the name of the villager in upper case\n",
    "    name = name.strip()                     #Removing the whitespaces from the name entered by Alex \n",
    "    x = name.isalpha()                      #Checking that there is no special character in the name\n",
    "    if x==True:\n",
    "        if name == 'Q':                     #If Alex enter Q character the list of the villager would print\n",
    "            exit                            #Will exit from if statement\n",
    "        else:\n",
    "            if(name in listvillage):        #If the name is already in the list it will not enter again in the list\n",
    "                print(\"name exist in the list\")     #Will print name exist in the list \n",
    "            else:\n",
    "                listvillage.append(name)    #name will be entered in the list\n",
    "    else:\n",
    "        print(\"enter the correct string\")   #If there is a Special character it will ask to enter the correct string\n",
    "    \n",
    "    listvillage.sort()                      #Making the list alphabetically\n",
    "    print(listvillage)                      #printing the list\n"
   ]
  },
  {
   "cell_type": "code",
   "execution_count": 20,
   "metadata": {},
   "outputs": [
    {
     "name": "stdout",
     "output_type": "stream",
     "text": [
      "['ADITYA', 'HITANSHI', 'SIDDHARTH', 'TANUJA']\n"
     ]
    }
   ],
   "source": [
    "\n",
    "functioncall()                      #calling the function "
   ]
  },
  {
   "cell_type": "code",
   "execution_count": null,
   "metadata": {},
   "outputs": [],
   "source": []
  },
  {
   "cell_type": "code",
   "execution_count": null,
   "metadata": {},
   "outputs": [],
   "source": []
  }
 ],
 "metadata": {
  "kernelspec": {
   "display_name": "Python 3",
   "language": "python",
   "name": "python3"
  },
  "language_info": {
   "codemirror_mode": {
    "name": "ipython",
    "version": 3
   },
   "file_extension": ".py",
   "mimetype": "text/x-python",
   "name": "python",
   "nbconvert_exporter": "python",
   "pygments_lexer": "ipython3",
   "version": "3.11.4"
  },
  "orig_nbformat": 4
 },
 "nbformat": 4,
 "nbformat_minor": 2
}
