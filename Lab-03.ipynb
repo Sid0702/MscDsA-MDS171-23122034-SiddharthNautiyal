{
 "cells": [
  {
   "cell_type": "markdown",
   "metadata": {},
   "source": [
    "Lab 03\n",
    "The Tale of Numbers' Harmony"
   ]
  },
  {
   "cell_type": "code",
   "execution_count": 120,
   "metadata": {},
   "outputs": [],
   "source": [
    "num =[761, 123, 585, 275, 194, 840, 999, 622, 763, 40, 825, 687, 402, 338, 611, 987, 739, 95, 819, 568, \n",
    "320, 126, 688, 948, 514, 223, 751, 379, 857, 767, 492, 162, 437, 934, 430, 343, 725, 511, 580, 678, 708, 823, \n",
    "346, 179, 786, 663, 195, 890, 267, 502, 214, 300, 786, 961, 235, 559, 992, 919, 948, 318, 57, 787, 653, 317, \n",
    "305, 172, 966, 182, 970, 17, 89, 624, 629, 595, 485, 752, 984, 978, 460, 124, 321, 256, 614, 852, 811, 561, \n",
    "127, 207, 406, 615, 888, 391, 691, 470, 911, 401, 137, 600, 478, 682]\n",
    "\n"
   ]
  },
  {
   "cell_type": "code",
   "execution_count": 121,
   "metadata": {},
   "outputs": [],
   "source": [
    "def stats2 (num): #defining the ffunction\n",
    "    sum2=0\n",
    "    count2=0\n",
    "    max2=0\n",
    "    min2=num[0]\n",
    "    range2=0\n",
    "    mean2=0\n",
    "\n",
    "\n",
    "    for i in list:\n",
    "        sum2 = sum2 +i #calculating the sum \n",
    "        count2 = count2 + 1 #counting the elements\n",
    "        if(max2<i): #maximum value\n",
    "            max2=i #assigning the value\n",
    "        elif(min2>i): #minimum value \n",
    "            min2=i #assigning the value\n",
    "    range2 = max2-min2 #calculating range\n",
    "    mean2 = sum2/count2  #calculating the range\n",
    "\n",
    "    return(mean2,range2,min2,max2) # returning the values\n",
    "\n",
    "    \n",
    "\n",
    "\n",
    "   \n",
    "        "
   ]
  },
  {
   "cell_type": "code",
   "execution_count": 122,
   "metadata": {},
   "outputs": [
    {
     "data": {
      "text/plain": [
       "(542.94, 982, 17, 999)"
      ]
     },
     "execution_count": 122,
     "metadata": {},
     "output_type": "execute_result"
    }
   ],
   "source": [
    "stats2(num)"
   ]
  },
  {
   "cell_type": "code",
   "execution_count": null,
   "metadata": {},
   "outputs": [],
   "source": []
  }
 ],
 "metadata": {
  "kernelspec": {
   "display_name": "Python 3",
   "language": "python",
   "name": "python3"
  },
  "language_info": {
   "codemirror_mode": {
    "name": "ipython",
    "version": 3
   },
   "file_extension": ".py",
   "mimetype": "text/x-python",
   "name": "python",
   "nbconvert_exporter": "python",
   "pygments_lexer": "ipython3",
   "version": "3.11.4"
  },
  "orig_nbformat": 4
 },
 "nbformat": 4,
 "nbformat_minor": 2
}
