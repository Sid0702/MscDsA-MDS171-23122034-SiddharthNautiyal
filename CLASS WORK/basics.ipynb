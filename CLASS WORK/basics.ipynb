{
 "cells": [
  {
   "cell_type": "code",
   "execution_count": null,
   "metadata": {},
   "outputs": [],
   "source": [
    "print(\"start the program\")\n",
    "a=5\n",
    "if a == 5 :\n",
    "    print(\"the value is five\")\n",
    "print('program End')\n"
   ]
  },
  {
   "cell_type": "code",
   "execution_count": null,
   "metadata": {},
   "outputs": [],
   "source": [
    "print(\"start the program\")\n",
    "a = int(input(\"enter the number\"))\n",
    "if a == 5 :\n",
    "    print(\"the value is five\")\n",
    "else:\n",
    "    print(\"not a five\")    \n",
    "print('program End')"
   ]
  },
  {
   "cell_type": "code",
   "execution_count": null,
   "metadata": {},
   "outputs": [],
   "source": [
    "print(\"start the program\")\n",
    "a = int(input(\"enter the number\"))\n",
    "if a == 0 :\n",
    "    print(\"zero is neither a odd nor a even number\")\n",
    "elif a % 2 == 0:\n",
    "    print(\"even number\")\n",
    "elif a%2 != 0:\n",
    "    print(\"odd number\")\n",
    "else:\n",
    "    print(\"wrong input\")\n",
    "print(\"program end\")"
   ]
  },
  {
   "cell_type": "code",
   "execution_count": null,
   "metadata": {},
   "outputs": [],
   "source": [
    "print(\"start the program\")\n",
    "a = int(input(\"enter\"))\n",
    "b = int(input(\"enter\"))\n",
    "c = int(input(\"enter\"))\n",
    "if a > b and a > c:\n",
    "    print(a)\n",
    "elif b > a and b > c:\n",
    "    print(b)\n",
    "else:\n",
    "    print(c)\n",
    "f = str(input(\"ASCENDING or decending\"))\n",
    "list = [a,b,c]\n",
    "if f == \"ASCENDING\":\n",
    "    list.sort()\n",
    "    print(\"list in ascending \",list)    \n",
    "else:\n",
    "    print(\"list in descending\",list.sort(reverse=true))\n"
   ]
  },
  {
   "cell_type": "code",
   "execution_count": null,
   "metadata": {},
   "outputs": [],
   "source": [
    "for x in \"this is msc data science class\":\n",
    "    print(x)"
   ]
  },
  {
   "cell_type": "code",
   "execution_count": null,
   "metadata": {},
   "outputs": [],
   "source": [
    "msg = \"         this is a string      4  \\nthis will go in new line       90        \"\n",
    "print(msg.strip())"
   ]
  },
  {
   "cell_type": "code",
   "execution_count": null,
   "metadata": {},
   "outputs": [],
   "source": [
    "# msg = msg.strip()  for removing the space from the starting and ending point of the string\n",
    "for i in range(0,17,4): # (start,end,jump)\n",
    "    print(i)\n",
    "\n",
    "list = [\"item1\",23,44.5,'#']\n",
    "print(type(list))\n",
    "print(list)\n",
    "print(list[2])\n",
    "for i in list:\n",
    "    print(i)"
   ]
  },
  {
   "cell_type": "code",
   "execution_count": null,
   "metadata": {},
   "outputs": [],
   "source": [
    "a = \"hello this is string \"\n",
    "a.split(' ')"
   ]
  },
  {
   "cell_type": "code",
   "execution_count": null,
   "metadata": {},
   "outputs": [],
   "source": [
    "print(\"siddharth\".upper())\n",
    "print(\"siddhARTH\".lower())\n",
    "print(\"siddhARTH\".swapcase())"
   ]
  },
  {
   "cell_type": "code",
   "execution_count": null,
   "metadata": {},
   "outputs": [],
   "source": [
    "sid =(\"mynameissiddharthnautiyal\")\n",
    "print(sid[7])\n",
    "print(sid[7:])\n",
    "print(sid[:9])"
   ]
  },
  {
   "cell_type": "code",
   "execution_count": null,
   "metadata": {},
   "outputs": [],
   "source": [
    "# format()\n",
    "\n",
    "name = input(\"enter the no\")\n",
    "nclass = input(\"where do you belong to \")\n",
    "print(\"you are from {} and name is {}\".format(nclass, name))"
   ]
  },
  {
   "cell_type": "code",
   "execution_count": null,
   "metadata": {},
   "outputs": [],
   "source": []
  },
  {
   "cell_type": "markdown",
   "metadata": {},
   "source": [
    "while loop  in the programs"
   ]
  },
  {
   "cell_type": "code",
   "execution_count": null,
   "metadata": {},
   "outputs": [],
   "source": [
    "a=0\n",
    "while a<5:\n",
    "    print(a)\n",
    "    a = a+1\n",
    "    a +=1"
   ]
  },
  {
   "cell_type": "markdown",
   "metadata": {},
   "source": [
    "break and pass or continue (skip the execution based on certain condition)\n"
   ]
  },
  {
   "cell_type": "code",
   "execution_count": null,
   "metadata": {},
   "outputs": [],
   "source": [
    "for item in range(1,-20,-1):\n",
    "    if item == -10:\n",
    "        break\n",
    "    print(item)"
   ]
  },
  {
   "cell_type": "code",
   "execution_count": null,
   "metadata": {},
   "outputs": [],
   "source": [
    "for item in range(1,-20,-1):\n",
    "    if item == -10:\n",
    "        pass\n",
    "    print(item)"
   ]
  },
  {
   "cell_type": "code",
   "execution_count": null,
   "metadata": {},
   "outputs": [],
   "source": [
    "\n",
    "for item in range(1,-20,-1):\n",
    "    if item == -10:\n",
    "        continue\n",
    "    print(item)"
   ]
  },
  {
   "cell_type": "code",
   "execution_count": null,
   "metadata": {},
   "outputs": [],
   "source": [
    "if condition:\n",
    "    if condition:\n",
    "        print(\"\")\n",
    "    else:\n",
    "        pass\n",
    "else:\n",
    "    pass"
   ]
  },
  {
   "cell_type": "markdown",
   "metadata": {},
   "source": [
    "break and continue only used in loop statement"
   ]
  },
  {
   "cell_type": "code",
   "execution_count": null,
   "metadata": {},
   "outputs": [],
   "source": [
    "list_ex =[\"apple\",\"banana\",'pineapple',\"apple\",\"pineapple\"]\n",
    "unique = set(list_ex)\n",
    "print(unique)\n",
    "for item in unique:\n",
    "    print(item)\n",
    "\n",
    "\n",
    "back=list(unique)\n",
    "print(type(back))\n",
    "print(type(unique))\n",
    "print(back)"
   ]
  },
  {
   "cell_type": "markdown",
   "metadata": {},
   "source": [
    "Write a program to accept 10 random strings identify the unique items and their count"
   ]
  },
  {
   "cell_type": "code",
   "execution_count": 20,
   "metadata": {},
   "outputs": [
    {
     "ename": "TypeError",
     "evalue": "'NoneType' object is not iterable",
     "output_type": "error",
     "traceback": [
      "\u001b[1;31m---------------------------------------------------------------------------\u001b[0m",
      "\u001b[1;31mTypeError\u001b[0m                                 Traceback (most recent call last)",
      "\u001b[1;32md:\\basics.ipynb Cell 23\u001b[0m line \u001b[0;36m9\n\u001b[0;32m      <a href='vscode-notebook-cell:/d%3A/basics.ipynb#X33sZmlsZQ%3D%3D?line=5'>6</a>\u001b[0m items_list\u001b[39m=\u001b[39mitems_list\u001b[39m.\u001b[39mstrip()\n\u001b[0;32m      <a href='vscode-notebook-cell:/d%3A/basics.ipynb#X33sZmlsZQ%3D%3D?line=7'>8</a>\u001b[0m list_store\u001b[39m=\u001b[39mlist_store\u001b[39m.\u001b[39mappend(items_list)\n\u001b[1;32m----> <a href='vscode-notebook-cell:/d%3A/basics.ipynb#X33sZmlsZQ%3D%3D?line=8'>9</a>\u001b[0m unique \u001b[39m=\u001b[39m \u001b[39mset\u001b[39;49m(list_store)\n\u001b[0;32m     <a href='vscode-notebook-cell:/d%3A/basics.ipynb#X33sZmlsZQ%3D%3D?line=9'>10</a>\u001b[0m count\u001b[39m=\u001b[39m\u001b[39m0\u001b[39m\n\u001b[0;32m     <a href='vscode-notebook-cell:/d%3A/basics.ipynb#X33sZmlsZQ%3D%3D?line=10'>11</a>\u001b[0m \u001b[39mfor\u001b[39;00m item \u001b[39min\u001b[39;00m unique:\n",
      "\u001b[1;31mTypeError\u001b[0m: 'NoneType' object is not iterable"
     ]
    }
   ],
   "source": [
    "number=int(input(\"enter the no of strings you want\"))\n",
    "list_store=[]\n",
    "for i in range(1,number+1,1):\n",
    "    items_list=input(\"enter the strings\")\n",
    "    items_list=items_list.upper()\n",
    "    items_list=items_list.strip()\n",
    "\n",
    "    list_store=list_store.append(items_list)\n",
    "    unique = set(list_store)\n",
    "    count=0\n",
    "    for item in unique:\n",
    "        count += 1\n",
    "    print(unique)\n",
    "    print(count)\n"
   ]
  },
  {
   "cell_type": "code",
   "execution_count": 3,
   "metadata": {},
   "outputs": [
    {
     "name": "stdout",
     "output_type": "stream",
     "text": [
      "[23, 45, 676, 577, 234]\n",
      "1555\n"
     ]
    }
   ],
   "source": [
    "LIST=[\"23\",\"45\",\"676\",\"577\",\"234\"]\n",
    "list=[]\n",
    "for item in LIST:\n",
    "    a=int(item)\n",
    "    list.append(a)\n",
    "print(list)\n",
    "sum=0\n",
    "for i in list:\n",
    "    sum=sum+i\n",
    "print(sum)"
   ]
  },
  {
   "cell_type": "code",
   "execution_count": null,
   "metadata": {},
   "outputs": [],
   "source": [
    "class $$ CLASS   true  True "
   ]
  }
 ],
 "metadata": {
  "kernelspec": {
   "display_name": "Python 3",
   "language": "python",
   "name": "python3"
  },
  "language_info": {
   "codemirror_mode": {
    "name": "ipython",
    "version": 3
   },
   "file_extension": ".py",
   "mimetype": "text/x-python",
   "name": "python",
   "nbconvert_exporter": "python",
   "pygments_lexer": "ipython3",
   "version": "3.11.4"
  },
  "orig_nbformat": 4
 },
 "nbformat": 4,
 "nbformat_minor": 2
}
