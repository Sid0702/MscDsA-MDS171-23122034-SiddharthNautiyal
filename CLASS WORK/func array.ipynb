{
 "cells": [
  {
   "cell_type": "code",
   "execution_count": 35,
   "metadata": {},
   "outputs": [
    {
     "name": "stdout",
     "output_type": "stream",
     "text": [
      "two is found\n"
     ]
    }
   ],
   "source": [
    "listx = [\"one\",\"two\",\"three\"]\n",
    "if \"two\"in listx:\n",
    "    print(\"two is found\")\n"
   ]
  },
  {
   "cell_type": "code",
   "execution_count": 36,
   "metadata": {},
   "outputs": [
    {
     "name": "stdout",
     "output_type": "stream",
     "text": [
      "['one', 'TWO', 'three']\n"
     ]
    }
   ],
   "source": [
    "listx = [\"one\",\"two\",\"three\"]#replacing the element\n",
    "listx[1] = \"TWO\"\n",
    "print(listx)"
   ]
  },
  {
   "cell_type": "code",
   "execution_count": 37,
   "metadata": {},
   "outputs": [
    {
     "name": "stdout",
     "output_type": "stream",
     "text": [
      "['one', 'TWO', 'three', 'one', 'TWO', 'three', '1', 2, '3,']\n"
     ]
    }
   ],
   "source": [
    "newlist = [\"1\",2,\"3,\"] #joining to array\n",
    "newlist = listx + newlist \n",
    "print(listx + newlist)"
   ]
  },
  {
   "cell_type": "code",
   "execution_count": 38,
   "metadata": {},
   "outputs": [
    {
     "name": "stdout",
     "output_type": "stream",
     "text": [
      "['one', 'three']\n",
      "['one', 'TWO', 'three', 2, '3,']\n"
     ]
    }
   ],
   "source": [
    "listx.pop(1)#pop function remove from index value\n",
    "print(listx)\n",
    "newlist.remove(\"1\")#remove function to remove by string or value\n",
    "print(newlist)\n",
    "\n"
   ]
  },
  {
   "cell_type": "code",
   "execution_count": 39,
   "metadata": {},
   "outputs": [
    {
     "name": "stdout",
     "output_type": "stream",
     "text": [
      "['one', 'three']\n",
      "['three', 'one']\n"
     ]
    }
   ],
   "source": [
    "listx.sort()\n",
    "print(listx)\n",
    "listx.reverse()\n",
    "print(listx)"
   ]
  },
  {
   "cell_type": "code",
   "execution_count": 44,
   "metadata": {},
   "outputs": [],
   "source": [
    "#FUNCTIONS OF ARRAY\n",
    "def functionName():\n",
    "    print(\"hi i am your first function\")\n",
    "\n"
   ]
  },
  {
   "cell_type": "code",
   "execution_count": 45,
   "metadata": {},
   "outputs": [
    {
     "name": "stdout",
     "output_type": "stream",
     "text": [
      "hi i am your first function\n"
     ]
    }
   ],
   "source": [
    "functionName()"
   ]
  },
  {
   "cell_type": "code",
   "execution_count": 55,
   "metadata": {},
   "outputs": [],
   "source": [
    "def functionName(n):\n",
    "    print(\"hi i am your first function\")\n",
    "    return [\"success\",True]"
   ]
  },
  {
   "cell_type": "markdown",
   "metadata": {},
   "source": [
    "name = \"siddharth\"\n",
    "ret = functionName(name)\n",
    "print(ret)"
   ]
  },
  {
   "cell_type": "markdown",
   "metadata": {},
   "source": [
    "DEFINE A FUNCTION THAT TAKES A LIST OF NUMBERS AS INPUT AND RETURN THE SUM OF NUMBERS,WITHOUT ANY PREDEFINED FUNCTIONS\n"
   ]
  },
  {
   "cell_type": "code",
   "execution_count": 4,
   "metadata": {},
   "outputs": [],
   "source": [
    "\n",
    "listn=[7,8,9,4,8]"
   ]
  },
  {
   "cell_type": "code",
   "execution_count": 2,
   "metadata": {},
   "outputs": [],
   "source": [
    "def sumlist():\n",
    "    sum=0\n",
    "    for item in listn:\n",
    "        sum=sum+item\n",
    "    return sum\n",
    "    "
   ]
  },
  {
   "cell_type": "code",
   "execution_count": 5,
   "metadata": {},
   "outputs": [
    {
     "data": {
      "text/plain": [
       "36"
      ]
     },
     "execution_count": 5,
     "metadata": {},
     "output_type": "execute_result"
    }
   ],
   "source": [
    "sumlist()"
   ]
  },
  {
   "cell_type": "markdown",
   "metadata": {},
   "source": [
    "COLLECT USER INPUT OF NUMBERS IN THE FORM OF COMA SEPERATED VALUES"
   ]
  },
  {
   "cell_type": "code",
   "execution_count": 20,
   "metadata": {},
   "outputs": [],
   "source": [
    "listm=[]\n"
   ]
  },
  {
   "cell_type": "code",
   "execution_count": 7,
   "metadata": {},
   "outputs": [],
   "source": [
    "def NameUser():\n",
    "    name=input(\"enter the number\").split(',')\n",
    "    sum=0\n",
    "    for item in name:\n",
    "        # sum=sum+int(item)\n",
    "        return item"
   ]
  },
  {
   "cell_type": "code",
   "execution_count": 8,
   "metadata": {},
   "outputs": [
    {
     "data": {
      "text/plain": [
       "'12'"
      ]
     },
     "execution_count": 8,
     "metadata": {},
     "output_type": "execute_result"
    }
   ],
   "source": [
    "NameUser()"
   ]
  },
  {
   "cell_type": "code",
   "execution_count": null,
   "metadata": {},
   "outputs": [],
   "source": []
  }
 ],
 "metadata": {
  "kernelspec": {
   "display_name": "Python 3",
   "language": "python",
   "name": "python3"
  },
  "language_info": {
   "codemirror_mode": {
    "name": "ipython",
    "version": 3
   },
   "file_extension": ".py",
   "mimetype": "text/x-python",
   "name": "python",
   "nbconvert_exporter": "python",
   "pygments_lexer": "ipython3",
   "version": "3.11.4"
  },
  "orig_nbformat": 4
 },
 "nbformat": 4,
 "nbformat_minor": 2
}
