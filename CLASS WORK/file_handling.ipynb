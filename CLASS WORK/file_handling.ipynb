{
 "cells": [
  {
   "cell_type": "markdown",
   "metadata": {},
   "source": [
    "FILE HANDLING"
   ]
  },
  {
   "cell_type": "code",
   "execution_count": null,
   "metadata": {},
   "outputs": [],
   "source": [
    "file = open(\"sample.text\",\"w+\")"
   ]
  },
  {
   "cell_type": "code",
   "execution_count": null,
   "metadata": {},
   "outputs": [],
   "source": [
    "file.write(\"\\nthis is my first\\n line in my a file\") #result will be the no of character in the file"
   ]
  },
  {
   "cell_type": "code",
   "execution_count": null,
   "metadata": {},
   "outputs": [],
   "source": [
    "file.close()  #close is use to save the changes in the file "
   ]
  },
  {
   "cell_type": "code",
   "execution_count": null,
   "metadata": {},
   "outputs": [],
   "source": [
    "file_read = open(\"sample.text\",\"r+\")\n",
    "file_read.readline()"
   ]
  },
  {
   "cell_type": "code",
   "execution_count": null,
   "metadata": {},
   "outputs": [],
   "source": [
    "file_read.readlines()"
   ]
  },
  {
   "cell_type": "markdown",
   "metadata": {},
   "source": [
    "WRITE A FUNCTION,THAT ACCEPTS YOUR DETAILS AND SAVE INTO A FILE "
   ]
  },
  {
   "cell_type": "code",
   "execution_count": 34,
   "metadata": {},
   "outputs": [],
   "source": [
    "def fileMyDetails(name,phone,email):\n",
    "\n",
    "    fileMyDetails = open(name+\".txt\",\"w+\")\n",
    "    fileMyDetails.write(\"Name\\t:\\t\"+name)\n",
    "    fileMyDetails.write(\"Phone\\t:\\t\"+phone)\n",
    "    fileMyDetails.write(\"email\\t:\\t\"+email)\n",
    "    fileMyDetails.close()\n",
    "    return True\n",
    "\n",
    "name=input(\"enter\")\n",
    "phone=input(\"enter\")\n",
    "email=input(\"enter\")"
   ]
  },
  {
   "cell_type": "code",
   "execution_count": null,
   "metadata": {},
   "outputs": [],
   "source": []
  },
  {
   "cell_type": "code",
   "execution_count": 36,
   "metadata": {},
   "outputs": [
    {
     "ename": "TypeError",
     "evalue": "fileMyDetails() missing 3 required positional arguments: 'name', 'phone', and 'email'",
     "output_type": "error",
     "traceback": [
      "\u001b[1;31m---------------------------------------------------------------------------\u001b[0m",
      "\u001b[1;31mTypeError\u001b[0m                                 Traceback (most recent call last)",
      "Cell \u001b[1;32mIn[36], line 1\u001b[0m\n\u001b[1;32m----> 1\u001b[0m fileMyDetails()\n",
      "\u001b[1;31mTypeError\u001b[0m: fileMyDetails() missing 3 required positional arguments: 'name', 'phone', and 'email'"
     ]
    }
   ],
   "source": [
    "fileMyDetails()"
   ]
  }
 ],
 "metadata": {
  "kernelspec": {
   "display_name": "Python 3",
   "language": "python",
   "name": "python3"
  },
  "language_info": {
   "codemirror_mode": {
    "name": "ipython",
    "version": 3
   },
   "file_extension": ".py",
   "mimetype": "text/x-python",
   "name": "python",
   "nbconvert_exporter": "python",
   "pygments_lexer": "ipython3",
   "version": "3.11.4"
  },
  "orig_nbformat": 4
 },
 "nbformat": 4,
 "nbformat_minor": 2
}
