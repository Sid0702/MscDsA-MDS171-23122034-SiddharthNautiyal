{
 "cells": [
  {
   "cell_type": "code",
   "execution_count": null,
   "metadata": {},
   "outputs": [],
   "source": [
    "# write a python program with the following \n",
    "# there will be a function name create data which will take dictionary,fileName& no of rows as arguments\n",
    "# the dictionary having a following structure \n",
    "#     {\n",
    "#     \"coloumn name\":[domain of values]\n",
    "#     }\n",
    "# your function will select random value for each of the domain and create a row for you,, the no of rows have to be create is the parameter \n",
    "# save the file with the required number of rows\n",
    "# load this data set through pandas and display some basics data set"
   ]
  },
  {
   "cell_type": "code",
   "execution_count": 9,
   "metadata": {},
   "outputs": [],
   "source": [
    "import pandas as pd\n",
    "import random"
   ]
  },
  {
   "cell_type": "code",
   "execution_count": 12,
   "metadata": {},
   "outputs": [
    {
     "ename": "TypeError",
     "evalue": "'dict' object is not callable",
     "output_type": "error",
     "traceback": [
      "\u001b[1;31m---------------------------------------------------------------------------\u001b[0m",
      "\u001b[1;31mTypeError\u001b[0m                                 Traceback (most recent call last)",
      "\u001b[1;32md:\\projects\\MY MODULE\\18\\10\\19_class_work.ipynb Cell 3\u001b[0m line \u001b[0;36m1\n\u001b[0;32m      <a href='vscode-notebook-cell:/d%3A/projects/MY%20MODULE/18/10/19_class_work.ipynb#W2sZmlsZQ%3D%3D?line=7'>8</a>\u001b[0m     \u001b[39mprint\u001b[39m(df\u001b[39m.\u001b[39mdescribe())\n\u001b[0;32m     <a href='vscode-notebook-cell:/d%3A/projects/MY%20MODULE/18/10/19_class_work.ipynb#W2sZmlsZQ%3D%3D?line=9'>10</a>\u001b[0m Dictionary \u001b[39m=\u001b[39m {\n\u001b[0;32m     <a href='vscode-notebook-cell:/d%3A/projects/MY%20MODULE/18/10/19_class_work.ipynb#W2sZmlsZQ%3D%3D?line=10'>11</a>\u001b[0m     \u001b[39m'\u001b[39m\u001b[39mName\u001b[39m\u001b[39m'\u001b[39m:[\u001b[39m'\u001b[39m\u001b[39mraju\u001b[39m\u001b[39m'\u001b[39m,\u001b[39m'\u001b[39m\u001b[39mram\u001b[39m\u001b[39m'\u001b[39m,\u001b[39m'\u001b[39m\u001b[39mshayam\u001b[39m\u001b[39m'\u001b[39m,\u001b[39m'\u001b[39m\u001b[39mjohn\u001b[39m\u001b[39m'\u001b[39m,\u001b[39m'\u001b[39m\u001b[39mjerry\u001b[39m\u001b[39m'\u001b[39m],\n\u001b[0;32m     <a href='vscode-notebook-cell:/d%3A/projects/MY%20MODULE/18/10/19_class_work.ipynb#W2sZmlsZQ%3D%3D?line=11'>12</a>\u001b[0m     \u001b[39m'\u001b[39m\u001b[39mAge\u001b[39m\u001b[39m'\u001b[39m:[\u001b[39m23\u001b[39m,\u001b[39m43\u001b[39m,\u001b[39m24\u001b[39m,\u001b[39m53\u001b[39m,\u001b[39m33\u001b[39m],\n\u001b[0;32m     <a href='vscode-notebook-cell:/d%3A/projects/MY%20MODULE/18/10/19_class_work.ipynb#W2sZmlsZQ%3D%3D?line=12'>13</a>\u001b[0m     \u001b[39m'\u001b[39m\u001b[39mSubject\u001b[39m\u001b[39m'\u001b[39m:[\u001b[39m'\u001b[39m\u001b[39mmaths\u001b[39m\u001b[39m'\u001b[39m,\u001b[39m'\u001b[39m\u001b[39msocialscience\u001b[39m\u001b[39m'\u001b[39m,\u001b[39m'\u001b[39m\u001b[39mhistory\u001b[39m\u001b[39m'\u001b[39m,\u001b[39m'\u001b[39m\u001b[39menglish\u001b[39m\u001b[39m'\u001b[39m,\u001b[39m'\u001b[39m\u001b[39mhindi\u001b[39m\u001b[39m'\u001b[39m],\n\u001b[0;32m     <a href='vscode-notebook-cell:/d%3A/projects/MY%20MODULE/18/10/19_class_work.ipynb#W2sZmlsZQ%3D%3D?line=13'>14</a>\u001b[0m     \u001b[39m'\u001b[39m\u001b[39mMarks\u001b[39m\u001b[39m'\u001b[39m:[\u001b[39m89\u001b[39m,\u001b[39m90\u001b[39m,\u001b[39m78\u001b[39m,\u001b[39m98\u001b[39m,\u001b[39m90\u001b[39m]\n\u001b[0;32m     <a href='vscode-notebook-cell:/d%3A/projects/MY%20MODULE/18/10/19_class_work.ipynb#W2sZmlsZQ%3D%3D?line=14'>15</a>\u001b[0m     }\n\u001b[1;32m---> <a href='vscode-notebook-cell:/d%3A/projects/MY%20MODULE/18/10/19_class_work.ipynb#W2sZmlsZQ%3D%3D?line=16'>17</a>\u001b[0m createDataSet(Dictionary,\u001b[39m\"\u001b[39;49m\u001b[39mnew.csv\u001b[39;49m\u001b[39m\"\u001b[39;49m,\u001b[39m50\u001b[39;49m)\n",
      "\u001b[1;32md:\\projects\\MY MODULE\\18\\10\\19_class_work.ipynb Cell 3\u001b[0m line \u001b[0;36m4\n\u001b[0;32m      <a href='vscode-notebook-cell:/d%3A/projects/MY%20MODULE/18/10/19_class_work.ipynb#W2sZmlsZQ%3D%3D?line=1'>2</a>\u001b[0m data \u001b[39m=\u001b[39m{}\n\u001b[0;32m      <a href='vscode-notebook-cell:/d%3A/projects/MY%20MODULE/18/10/19_class_work.ipynb#W2sZmlsZQ%3D%3D?line=2'>3</a>\u001b[0m \u001b[39mfor\u001b[39;00m key \u001b[39min\u001b[39;00m Dictionary:\n\u001b[1;32m----> <a href='vscode-notebook-cell:/d%3A/projects/MY%20MODULE/18/10/19_class_work.ipynb#W2sZmlsZQ%3D%3D?line=3'>4</a>\u001b[0m     data[key]\u001b[39m=\u001b[39m[random\u001b[39m.\u001b[39;49mchoice(Dictionary(key))\u001b[39mfor\u001b[39;49;00m i \u001b[39min\u001b[39;49;00m \u001b[39mrange\u001b[39;49m(rows)]\n\u001b[0;32m      <a href='vscode-notebook-cell:/d%3A/projects/MY%20MODULE/18/10/19_class_work.ipynb#W2sZmlsZQ%3D%3D?line=4'>5</a>\u001b[0m df \u001b[39m=\u001b[39m pd\u001b[39m.\u001b[39mDataFrame(data)\n\u001b[0;32m      <a href='vscode-notebook-cell:/d%3A/projects/MY%20MODULE/18/10/19_class_work.ipynb#W2sZmlsZQ%3D%3D?line=5'>6</a>\u001b[0m df\u001b[39m.\u001b[39mto_csv(fileName)\n",
      "\u001b[1;32md:\\projects\\MY MODULE\\18\\10\\19_class_work.ipynb Cell 3\u001b[0m line \u001b[0;36m4\n\u001b[0;32m      <a href='vscode-notebook-cell:/d%3A/projects/MY%20MODULE/18/10/19_class_work.ipynb#W2sZmlsZQ%3D%3D?line=1'>2</a>\u001b[0m data \u001b[39m=\u001b[39m{}\n\u001b[0;32m      <a href='vscode-notebook-cell:/d%3A/projects/MY%20MODULE/18/10/19_class_work.ipynb#W2sZmlsZQ%3D%3D?line=2'>3</a>\u001b[0m \u001b[39mfor\u001b[39;00m key \u001b[39min\u001b[39;00m Dictionary:\n\u001b[1;32m----> <a href='vscode-notebook-cell:/d%3A/projects/MY%20MODULE/18/10/19_class_work.ipynb#W2sZmlsZQ%3D%3D?line=3'>4</a>\u001b[0m     data[key]\u001b[39m=\u001b[39m[random\u001b[39m.\u001b[39mchoice(Dictionary(key))\u001b[39mfor\u001b[39;00m i \u001b[39min\u001b[39;00m \u001b[39mrange\u001b[39m(rows)]\n\u001b[0;32m      <a href='vscode-notebook-cell:/d%3A/projects/MY%20MODULE/18/10/19_class_work.ipynb#W2sZmlsZQ%3D%3D?line=4'>5</a>\u001b[0m df \u001b[39m=\u001b[39m pd\u001b[39m.\u001b[39mDataFrame(data)\n\u001b[0;32m      <a href='vscode-notebook-cell:/d%3A/projects/MY%20MODULE/18/10/19_class_work.ipynb#W2sZmlsZQ%3D%3D?line=5'>6</a>\u001b[0m df\u001b[39m.\u001b[39mto_csv(fileName)\n",
      "\u001b[1;31mTypeError\u001b[0m: 'dict' object is not callable"
     ]
    }
   ],
   "source": [
    "def createDataSet(Dictionary,fileName,rows):\n",
    "    data ={}\n",
    "    for key in Dictionary:\n",
    "        data[key]=[random.choice(Dictionary(key))for i in range(rows)]\n",
    "    df = pd.DataFrame(data)\n",
    "    df.to_csv(fileName)\n",
    "    print(\"Data sved to the {fileName}\")\n",
    "    print(df.describe())\n",
    "\n",
    "Dictionary = {\n",
    "    'Name':['raju','ram','shayam','john','jerry'],\n",
    "    'Age':[23,43,24,53,33],\n",
    "    'Subject':['maths','socialscience','history','english','hindi'],\n",
    "    'Marks':[89,90,78,98,90]\n",
    "    }\n",
    "    \n",
    "createDataSet(Dictionary,\"new.csv\",50)"
   ]
  },
  {
   "cell_type": "code",
   "execution_count": null,
   "metadata": {},
   "outputs": [],
   "source": [
    "# import random\n",
    "\n",
    "# def create_dataset(data_dict,file_name,num_rows):\n",
    "#     pass\n",
    "\n",
    "# dict = {\n",
    "#     \"col_name\":[\"val1\",\"val2\",.....],\n",
    "#     \"col_name\":[\"val1\",\"val2\",.....],\n",
    "#     \"col_name\":[\"val1\",\"val2\",.....]\n",
    "# }\n",
    "\n",
    "# create_dataset(dict,\"new.csv\",50)"
   ]
  }
 ],
 "metadata": {
  "kernelspec": {
   "display_name": "base",
   "language": "python",
   "name": "python3"
  },
  "language_info": {
   "codemirror_mode": {
    "name": "ipython",
    "version": 3
   },
   "file_extension": ".py",
   "mimetype": "text/x-python",
   "name": "python",
   "nbconvert_exporter": "python",
   "pygments_lexer": "ipython3",
   "version": "3.11.4"
  }
 },
 "nbformat": 4,
 "nbformat_minor": 2
}
