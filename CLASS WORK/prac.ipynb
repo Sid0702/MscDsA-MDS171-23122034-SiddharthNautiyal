{
 "cells": [
  {
   "cell_type": "markdown",
   "metadata": {},
   "source": []
  },
  {
   "cell_type": "code",
   "execution_count": 113,
   "metadata": {},
   "outputs": [
    {
     "name": "stdout",
     "output_type": "stream",
     "text": [
      "siddharth\n"
     ]
    }
   ],
   "source": [
    "import random\n",
    "l=[\"siddharth\",\"rtyu\",\"ram\",\"shyam\",\"raju\"]\n",
    "t=random.choice(l)\n",
    "print(t)"
   ]
  },
  {
   "cell_type": "code",
   "execution_count": 114,
   "metadata": {},
   "outputs": [
    {
     "name": "stdout",
     "output_type": "stream",
     "text": [
      "628\n"
     ]
    }
   ],
   "source": [
    "a=random.randint(0,8)\n",
    "b=random.randint(0,7)\n",
    "c=random.randint(0,9)\n",
    "d=str(a)+str(b)+str(c)\n",
    "print(d)"
   ]
  },
  {
   "cell_type": "code",
   "execution_count": 115,
   "metadata": {},
   "outputs": [],
   "source": [
    "menu=[{\"CHICKEN\":500},{\"FISH\":380},{\"MUTTON\":700},{\"ROTI\":20}]\n",
    "def display_order():\n",
    "    print(\"MENU CARD OF NON VEG ITEMS\")\n",
    "    print(\" 1\",menu[0],\"\\n\",\"2\",menu[1],\"\\n\",\"3\",menu[2],\"\\n\",\"4\",menu[3])"
   ]
  },
  {
   "cell_type": "code",
   "execution_count": 116,
   "metadata": {},
   "outputs": [
    {
     "name": "stdout",
     "output_type": "stream",
     "text": [
      "MENU CARD OF NON VEG ITEMS\n",
      " 1 {'CHICKEN': 500} \n",
      " 2 {'FISH': 380} \n",
      " 3 {'MUTTON': 700} \n",
      " 4 {'ROTI': 20}\n"
     ]
    }
   ],
   "source": [
    "display_order()"
   ]
  },
  {
   "cell_type": "code",
   "execution_count": 117,
   "metadata": {},
   "outputs": [
    {
     "name": "stdout",
     "output_type": "stream",
     "text": [
      "217658\n"
     ]
    }
   ],
   "source": [
    "#for order id random\n",
    "import random\n",
    "a=random.randint(0,150)\n",
    "b=random.randint(0,150)\n",
    "c=random.randint(0,150)\n",
    "order_id=str(a)+str(b)+str(c)\n",
    "print(order_id)\n"
   ]
  },
  {
   "cell_type": "code",
   "execution_count": 118,
   "metadata": {},
   "outputs": [],
   "source": [
    "def place_order():\n",
    "    item=input(\"enter the item\")\n",
    "    if item[]=='CHICKEN':\n",
    "        qty=int(input(\"enter the qty \"))\n",
    "        price=menu.value(0)\n",
    "        print(qty,price)"
   ]
  },
  {
   "cell_type": "code",
   "execution_count": 119,
   "metadata": {},
   "outputs": [],
   "source": [
    "place_order()"
   ]
  },
  {
   "cell_type": "code",
   "execution_count": null,
   "metadata": {},
   "outputs": [],
   "source": []
  },
  {
   "cell_type": "markdown",
   "metadata": {},
   "source": [
    "class in oop"
   ]
  },
  {
   "cell_type": "code",
   "execution_count": 28,
   "metadata": {},
   "outputs": [],
   "source": [
    "class students:\n",
    "    def __init__(self):\n",
    "        self.student = []\n",
    "    def addstudent(self,name,regno):\n",
    "        self.student.append({\n",
    "            \"name\": name,\n",
    "            \"regno\":regno\n",
    "        })\n",
    "    def listAllStudents(self):\n",
    "        print(self.student)\n",
    "    def searchStudents(self,name):\n",
    "        flag\n",
    "        for item in self.student:\n",
    "            a=item['name']\n",
    "            if a == name:\n",
    "                flag=0\n",
    "            else:\n",
    "                flag=1\n",
    "        if flag==0:\n",
    "            print(\"name found in list \")\n",
    "        else:\n",
    "            print(\"name not found in the list\")\n",
    "    def removeStudents(self,name):\n",
    "        pass\n",
    "    def __str__(self):\n",
    "        pass\n"
   ]
  },
  {
   "cell_type": "code",
   "execution_count": 29,
   "metadata": {},
   "outputs": [],
   "source": [
    "mscdsa =students()"
   ]
  },
  {
   "cell_type": "code",
   "execution_count": 30,
   "metadata": {},
   "outputs": [],
   "source": [
    "mscdsa.addstudent(\"abithkk\",\"23456\")\n"
   ]
  },
  {
   "cell_type": "code",
   "execution_count": 31,
   "metadata": {},
   "outputs": [
    {
     "name": "stdout",
     "output_type": "stream",
     "text": [
      "[{'name': 'abithkk', 'regno': '23456'}]\n"
     ]
    }
   ],
   "source": [
    "mscdsa.listAllStudents()"
   ]
  },
  {
   "cell_type": "code",
   "execution_count": 32,
   "metadata": {},
   "outputs": [],
   "source": [
    "temp=[{'name': 'abith', 'regno': '23456'}, {'name': 'abithkk', 'regno': '23456'}]"
   ]
  },
  {
   "cell_type": "code",
   "execution_count": 33,
   "metadata": {},
   "outputs": [
    {
     "name": "stdout",
     "output_type": "stream",
     "text": [
      "abith\n",
      "abithkk\n"
     ]
    }
   ],
   "source": [
    "for item in temp:\n",
    "    print(item['name'])"
   ]
  },
  {
   "cell_type": "code",
   "execution_count": 5,
   "metadata": {},
   "outputs": [],
   "source": [
    "mscdsa.searchStudents(\"abithkk\")"
   ]
  },
  {
   "cell_type": "code",
   "execution_count": null,
   "metadata": {},
   "outputs": [],
   "source": [
    "name=input(\"enter the name to be search\")\n",
    "for item in temp:\n",
    "    a=item['name']\n",
    "    if a == name:\n",
    "        print(\"name found in list\")"
   ]
  },
  {
   "cell_type": "code",
   "execution_count": 65,
   "metadata": {},
   "outputs": [],
   "source": [
    "class students:\n",
    "    def __init__(self):\n",
    "        self.student = []\n",
    "    def addstudent(self,name,regno):\n",
    "        self.student.append({\n",
    "            \"name\": name,\n",
    "            \"regno\":regno\n",
    "        })\n",
    "    def listAllStudents(self):\n",
    "        print(self.student)\n",
    "    def searchStudents(self,name):\n",
    "        flag=0\n",
    "        if name in self.student:\n",
    "            print(\"Yes\")\n",
    "        else:\n",
    "            print(\"no\")\n",
    "\n",
    "    def removeStudents(self,name):\n",
    "        pass\n",
    "    def __str__(self):\n",
    "        pass"
   ]
  },
  {
   "cell_type": "code",
   "execution_count": 66,
   "metadata": {},
   "outputs": [],
   "source": [
    "mscdsa =students()"
   ]
  },
  {
   "cell_type": "code",
   "execution_count": 67,
   "metadata": {},
   "outputs": [],
   "source": [
    "mscdsa.addstudent(\"abithkk\",\"23456\")"
   ]
  },
  {
   "cell_type": "code",
   "execution_count": 68,
   "metadata": {},
   "outputs": [
    {
     "name": "stdout",
     "output_type": "stream",
     "text": [
      "[{'name': 'abithkk', 'regno': '23456'}]\n"
     ]
    }
   ],
   "source": [
    "mscdsa.listAllStudents()"
   ]
  },
  {
   "cell_type": "code",
   "execution_count": 69,
   "metadata": {},
   "outputs": [
    {
     "name": "stdout",
     "output_type": "stream",
     "text": [
      "no\n"
     ]
    }
   ],
   "source": [
    "mscdsa.searchStudents(\"abith\")"
   ]
  },
  {
   "cell_type": "code",
   "execution_count": 70,
   "metadata": {},
   "outputs": [],
   "source": [
    "mscdsa.addstudent(\"siddharthnautiyal\",\"23456\")"
   ]
  },
  {
   "cell_type": "code",
   "execution_count": 71,
   "metadata": {},
   "outputs": [
    {
     "name": "stdout",
     "output_type": "stream",
     "text": [
      "[{'name': 'abithkk', 'regno': '23456'}, {'name': 'siddharthnautiyal', 'regno': '23456'}]\n"
     ]
    }
   ],
   "source": [
    "mscdsa.listAllStudents()"
   ]
  },
  {
   "cell_type": "code",
   "execution_count": 72,
   "metadata": {},
   "outputs": [
    {
     "name": "stdout",
     "output_type": "stream",
     "text": [
      "no\n"
     ]
    }
   ],
   "source": [
    "mscdsa.searchStudents(\"abithkk\")"
   ]
  },
  {
   "cell_type": "code",
   "execution_count": 73,
   "metadata": {},
   "outputs": [
    {
     "name": "stdout",
     "output_type": "stream",
     "text": [
      "[{'name': 'abithkk', 'regno': '23456'}, {'name': 'siddharthnautiyal', 'regno': '23456'}]\n"
     ]
    }
   ],
   "source": [
    "mscdsa.listAllStudents()"
   ]
  },
  {
   "cell_type": "code",
   "execution_count": 74,
   "metadata": {},
   "outputs": [
    {
     "name": "stdout",
     "output_type": "stream",
     "text": [
      "no\n"
     ]
    }
   ],
   "source": [
    "mscdsa.searchStudents(\"siddharthnautiyal\")"
   ]
  },
  {
   "cell_type": "code",
   "execution_count": 75,
   "metadata": {},
   "outputs": [],
   "source": [
    "mscdsa.addstudent(\"naveen\",\"3456\")"
   ]
  },
  {
   "cell_type": "code",
   "execution_count": 76,
   "metadata": {},
   "outputs": [
    {
     "name": "stdout",
     "output_type": "stream",
     "text": [
      "[{'name': 'abithkk', 'regno': '23456'}, {'name': 'siddharthnautiyal', 'regno': '23456'}, {'name': 'naveen', 'regno': '3456'}]\n"
     ]
    }
   ],
   "source": [
    "mscdsa.listAllStudents()"
   ]
  },
  {
   "cell_type": "code",
   "execution_count": 78,
   "metadata": {},
   "outputs": [
    {
     "name": "stdout",
     "output_type": "stream",
     "text": [
      "no\n"
     ]
    }
   ],
   "source": [
    "mscdsa.searchStudents(\"naveen\")"
   ]
  },
  {
   "cell_type": "code",
   "execution_count": 1,
   "metadata": {},
   "outputs": [
    {
     "name": "stdout",
     "output_type": "stream",
     "text": [
      "                     Email        Name\n",
      "0     john.doe@example.com    john.doe\n",
      "1  jane.smith@testmail.com  jane.smith\n",
      "2      alice.doe@gmail.com   alice.doe\n"
     ]
    }
   ],
   "source": [
    "import pandas as pd\n",
    "\n",
    "# Sample data with email addresses\n",
    "data = {'Email': ['john.doe@example.com', 'jane.smith@testmail.com', 'alice.doe@gmail.com']}\n",
    "df = pd.DataFrame(data)\n",
    "\n",
    "# Split the email addresses at the \"@\" symbol and select the part before it (the name)\n",
    "df['Name'] = df['Email'].str.split('@').str[0]\n",
    "\n",
    "# Display the DataFrame\n",
    "print(df)\n"
   ]
  },
  {
   "cell_type": "code",
   "execution_count": 10,
   "metadata": {},
   "outputs": [
    {
     "data": {
      "image/png": "[encoded data removed]",
      "text/plain": [
       "<Figure size 640x480 with 1 Axes>"
      ]
     },
     "metadata": {},
     "output_type": "display_data"
    }
   ],
   "source": [
    "import matplotlib.pyplot as plt\n",
    "\n",
    "my_data = [300, 500, 700]\n",
    "my_labels = 'Tasks Pending', 'Tasks Ongoing', 'Tasks Completed'\n",
    "plt.pie(my_data, labels=my_labels, autopct='%1.1f%%')\n",
    "# plt.title('My Tasks')\n",
    "# plt.axis('equal')\n",
    "plt.show()"
   ]
  },
  {
   "cell_type": "code",
   "execution_count": null,
   "metadata": {},
   "outputs": [],
   "source": []
  }
 ],
 "metadata": {
  "kernelspec": {
   "display_name": "Python 3",
   "language": "python",
   "name": "python3"
  },
  "language_info": {
   "codemirror_mode": {
    "name": "ipython",
    "version": 3
   },
   "file_extension": ".py",
   "mimetype": "text/x-python",
   "name": "python",
   "nbconvert_exporter": "python",
   "pygments_lexer": "ipython3",
   "version": "3.11.4"
  },
  "orig_nbformat": 4
 },
 "nbformat": 4,
 "nbformat_minor": 2
}
