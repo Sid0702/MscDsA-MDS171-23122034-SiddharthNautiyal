{
 "cells": [
  {
   "cell_type": "markdown",
   "metadata": {},
   "source": [
    "DICTIONARY TO STORE KEY VALUE PAIRS      key is usually string"
   ]
  },
  {
   "cell_type": "code",
   "execution_count": 30,
   "metadata": {},
   "outputs": [],
   "source": [
    "my_dict = {\"names\":\"siddharth\",\n",
    "           \"age\":23,\n",
    "           \"BooleanVal\": True,\n",
    "            \"values\": 234  }\n"
   ]
  },
  {
   "cell_type": "code",
   "execution_count": 15,
   "metadata": {},
   "outputs": [
    {
     "name": "stdout",
     "output_type": "stream",
     "text": [
      "23\n"
     ]
    }
   ],
   "source": [
    "print(my_dict[\"age\"])"
   ]
  },
  {
   "cell_type": "code",
   "execution_count": 16,
   "metadata": {},
   "outputs": [
    {
     "name": "stdout",
     "output_type": "stream",
     "text": [
      "{'names': 'new name', 'age': 23, 'BooleanVal': True}\n"
     ]
    }
   ],
   "source": [
    "my_dict[\"names\"]=\"new name\"\n",
    "print(my_dict)"
   ]
  },
  {
   "cell_type": "code",
   "execution_count": 17,
   "metadata": {},
   "outputs": [
    {
     "data": {
      "text/plain": [
       "dict_values(['new name', 23, True])"
      ]
     },
     "execution_count": 17,
     "metadata": {},
     "output_type": "execute_result"
    }
   ],
   "source": [
    "my_dict.values()"
   ]
  },
  {
   "cell_type": "code",
   "execution_count": 18,
   "metadata": {},
   "outputs": [
    {
     "data": {
      "text/plain": [
       "dict_keys(['names', 'age', 'BooleanVal'])"
      ]
     },
     "execution_count": 18,
     "metadata": {},
     "output_type": "execute_result"
    }
   ],
   "source": [
    "my_dict.keys()"
   ]
  },
  {
   "cell_type": "code",
   "execution_count": 19,
   "metadata": {},
   "outputs": [],
   "source": [
    "my_dict[\"phone\"]=9410579207"
   ]
  },
  {
   "cell_type": "code",
   "execution_count": 22,
   "metadata": {},
   "outputs": [
    {
     "name": "stdout",
     "output_type": "stream",
     "text": [
      "{'names': 'new name', 'age': 23, 'BooleanVal': True, 'phone': 9410579207}\n"
     ]
    }
   ],
   "source": [
    "print(my_dict)"
   ]
  },
  {
   "cell_type": "code",
   "execution_count": 31,
   "metadata": {},
   "outputs": [
    {
     "name": "stdout",
     "output_type": "stream",
     "text": [
      "234\n"
     ]
    }
   ],
   "source": [
    "print(my_dict[\"values\"])"
   ]
  },
  {
   "cell_type": "code",
   "execution_count": 32,
   "metadata": {},
   "outputs": [
    {
     "name": "stdout",
     "output_type": "stream",
     "text": [
      "{'mscdsa': {'01': {'name': 'asss', 'phone': '923456734', 'section': 'A', 'email': 'qwertyu@gmail.com'}, '02': {'name': 'sidd', 'phone': '987654332', 'section': 'A', 'email': 'asdfghjk@gmail.com'}}}\n"
     ]
    }
   ],
   "source": [
    "student ={\n",
    "    \"mscdsa\": {\n",
    "        \"01\":{\n",
    "            \"name\": \"asss\",\n",
    "            \"phone\":\"923456734\",\n",
    "            \"section\":\"A\",\n",
    "            \"email\":\"qwertyu@gmail.com\"\n",
    "        },\n",
    "        \"02\":{\"name\": \"sidd\",\n",
    "              \"phone\":\"987654332\",\n",
    "              \"section\":\"A\",\n",
    "              \"email\":\"asdfghjk@gmail.com\"\n",
    "\n",
    "        }\n",
    "    }\n",
    "}\n",
    "print(student)"
   ]
  },
  {
   "cell_type": "code",
   "execution_count": null,
   "metadata": {},
   "outputs": [],
   "source": []
  }
 ],
 "metadata": {
  "kernelspec": {
   "display_name": "Python 3",
   "language": "python",
   "name": "python3"
  },
  "language_info": {
   "codemirror_mode": {
    "name": "ipython",
    "version": 3
   },
   "file_extension": ".py",
   "mimetype": "text/x-python",
   "name": "python",
   "nbconvert_exporter": "python",
   "pygments_lexer": "ipython3",
   "version": "3.11.4"
  },
  "orig_nbformat": 4
 },
 "nbformat": 4,
 "nbformat_minor": 2
}
