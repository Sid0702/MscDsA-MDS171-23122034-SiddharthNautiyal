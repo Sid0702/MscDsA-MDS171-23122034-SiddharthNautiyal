{
 "cells": [
  {
   "cell_type": "code",
   "execution_count": null,
   "metadata": {},
   "outputs": [],
   "source": []
  },
  {
   "cell_type": "markdown",
   "metadata": {},
   "source": [
    "menu driven program"
   ]
  },
  {
   "cell_type": "code",
   "execution_count": null,
   "metadata": {},
   "outputs": [],
   "source": [
    "while True:\n",
    "    print(\"*\"*30)\n",
    "    print(\"1.enter the name\")\n",
    "    print(\"2.list the name\")\n",
    "    print(\"3.search for name\")\n",
    "    print(\"4.exit\")\n",
    "    print(\"*\"*30)\n",
    "\n",
    "    choice = input(\"enter your choice?\")\n",
    "    print(\"you have entered choice: \",choice)"
   ]
  },
  {
   "cell_type": "code",
   "execution_count": null,
   "metadata": {},
   "outputs": [],
   "source": [
    "nameList = []\n",
    "\n",
    "def storeName():\n",
    "    name = input(\"enter the named to be saved : \")\n",
    "    name = name.strip().title()\n",
    "    nameList.append(name)\n",
    "    return name\n",
    "\n",
    "def listNames():\n",
    "    print(\"*\"*30)\n",
    "    print(\"names in the list\")\n",
    "    print(\"*\"*30)\n",
    "    for name in nameList:\n",
    "        print(name)\n",
    "        print(\"*\"*30)\n",
    "\n",
    "def searchName(search):\n",
    "    search = search.strip().title()\n",
    "    for name in nameList:\n",
    "        if name == search:\n",
    "            print(\"name exist in the list\")\n",
    "\n",
    "while True:\n",
    "    print(\"*\"*30)\n",
    "    print(\"1.enter the name\")\n",
    "    print(\"2.list the name\")\n",
    "    print(\"3.search for name\")\n",
    "    print(\"4.exit\")\n",
    "    print(\"*\"*30)\n",
    "\n",
    "    choice = int(input(\"enter your choice?\"))\n",
    "    print(\"you have entered choice: \",choice)\n",
    "\n",
    "    if choice == 1:\n",
    "        name = storeName()\n",
    "        print(\"Name {}added succesfully!\".format(name))\n",
    "    elif choice == 2:\n",
    "        listNames()\n",
    "    elif choice == 3:\n",
    "        name = input(\"enter a name to be search\")\n",
    "        searchName(name)\n",
    "    elif choice == 4:\n",
    "        exit()\n",
    "    else:\n",
    "        print(\"wrong output\")\n",
    "\n",
    "\n",
    "#def searchName(search):\n",
    "   # search = search.strip().title()\n",
    "#    found = False\n",
    "    #for name in nameList:\n",
    "        #if name == search:\n",
    "    #         found =True\n",
    "    #         break\n",
    "    # if found == True:\n",
    "    #     # print(\"name exist in the list\")\n",
    "    # else:\n",
    "    #     print(\"name doest not exist..!\")\n",
    "\n",
    "\n",
    "\n",
    "\n"
   ]
  },
  {
   "cell_type": "code",
   "execution_count": 2,
   "metadata": {},
   "outputs": [],
   "source": [
    "studentList = []"
   ]
  },
  {
   "cell_type": "code",
   "execution_count": 4,
   "metadata": {},
   "outputs": [
    {
     "name": "stdout",
     "output_type": "stream",
     "text": [
      "{'Name': 'Amal', 'regno': '1847208'}\n",
      "[{'Name': 'Alwin 1847207', 'regno': '1847207'}, {'Name': 'Amal', 'regno': '1847208'}]\n"
     ]
    }
   ],
   "source": [
    "\n",
    "\n",
    "studemt = {}\n",
    "name = input(\"Enter a name\")\n",
    "studemt['Name'] = name\n",
    "regno = input(\"Enter a regno\")\n",
    "studemt['regno'] = regno\n",
    "\n",
    "studentList.append(studemt)\n",
    "print(studemt) #dict\n",
    "print(studentList) #list"
   ]
  },
  {
   "cell_type": "code",
   "execution_count": 6,
   "metadata": {},
   "outputs": [
    {
     "name": "stdout",
     "output_type": "stream",
     "text": [
      "Alwin 1847207\n",
      "Amal\n"
     ]
    }
   ],
   "source": [
    "for item in studentList:\n",
    "    print(item['Name'])"
   ]
  },
  {
   "cell_type": "code",
   "execution_count": 11,
   "metadata": {},
   "outputs": [],
   "source": [
    "contactList=[]\n",
    "\n",
    "contactDict={}\n",
    "\n",
    "def contactDetails():\n",
    "    name=input(\"enter the name\")\n",
    "    phoneNo=input(\"enter the contact no\")\n",
    "    email=input(\"enter the id\")\n",
    "    contactDict['Name'] = name\n",
    "    contactDict['phone no'] = phoneNo\n",
    "    contactDict['email'] = email\n",
    "\n",
    "    contactList.append(contactDict)\n",
    "    print(contactList)\n"
   ]
  },
  {
   "cell_type": "code",
   "execution_count": 12,
   "metadata": {},
   "outputs": [
    {
     "name": "stdout",
     "output_type": "stream",
     "text": [
      "[{'Name': '123456789', 'phone no': '12345678', 'email': '34567890'}]\n"
     ]
    }
   ],
   "source": [
    "contactDetails()"
   ]
  },
  {
   "cell_type": "code",
   "execution_count": null,
   "metadata": {},
   "outputs": [],
   "source": []
  }
 ],
 "metadata": {
  "kernelspec": {
   "display_name": "Python 3",
   "language": "python",
   "name": "python3"
  },
  "language_info": {
   "codemirror_mode": {
    "name": "ipython",
    "version": 3
   },
   "file_extension": ".py",
   "mimetype": "text/x-python",
   "name": "python",
   "nbconvert_exporter": "python",
   "pygments_lexer": "ipython3",
   "version": "3.11.4"
  },
  "orig_nbformat": 4
 },
 "nbformat": 4,
 "nbformat_minor": 2
}
