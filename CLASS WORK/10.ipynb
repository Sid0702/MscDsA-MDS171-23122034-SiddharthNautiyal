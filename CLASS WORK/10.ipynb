{
 "cells": [
  {
   "cell_type": "markdown",
   "metadata": {},
   "source": [
    "CREATE A CLASS PANDAS_NAME THAT WILL HELP YOU TO READ A CSV FILE AND PRINT THE TOP/BOTTOM N ROWS IN THE FILE"
   ]
  },
  {
   "cell_type": "markdown",
   "metadata": {},
   "source": [
    "class pandas_name\n",
    "init()\n",
    "        stores the data\n",
    "read csv()\n",
    "        read a csv file\n",
    "haed ()\n",
    "        print the top n rows\n",
    "tail()\n",
    "        print the last n rows"
   ]
  },
  {
   "cell_type": "code",
   "execution_count": null,
   "metadata": {},
   "outputs": [],
   "source": []
  },
  {
   "cell_type": "code",
   "execution_count": 74,
   "metadata": {},
   "outputs": [],
   "source": [
    "class pandas_siddharth:\n",
    "    def __init__(self):\n",
    "        self.filecontent = \"\"\n",
    "        self.filename = \"\"\n",
    "    def read_csv(self,filename):\n",
    "        self.filename = filename\n",
    "        try:\n",
    "            with open(filename,\"r+\") as file:\n",
    "                self.filecontent = file.readlines()\n",
    "        except:\n",
    "            print(\"file not found\")\n",
    "    def __head__(self,num_of_rows):\n",
    "        for i in range(0,num_of_rows):\n",
    "            print(self.filecontent[i])\n",
    "    def __tail__(self,num_of_last_rows):\n",
    "        for i in range(len(self.filecontent)-(num_of_last_rows),len(self.filecontent)):\n",
    "            print(self.filecontent[i])\n",
    "    def coloumns(self):\n",
    "        with open(\"D:/github/MscDsA-MDS171-23122034-SiddharthNautiyal/lab-05/23122034.csv\",\"r+\") as file:\n",
    "            print(file.readline())\n",
    "            \n",
    "    "
   ]
  },
  {
   "cell_type": "code",
   "execution_count": 75,
   "metadata": {},
   "outputs": [],
   "source": [
    "view = pandas_siddharth()\n",
    "view.read_csv(\"D:/github/MscDsA-MDS171-23122034-SiddharthNautiyal/lab-05/23122034.csv\")\n"
   ]
  },
  {
   "cell_type": "code",
   "execution_count": 76,
   "metadata": {},
   "outputs": [
    {
     "name": "stdout",
     "output_type": "stream",
     "text": [
      "grips\t4\t453\t1812\n",
      "\n",
      "chess board\t5\t453\t2265\n",
      "\n",
      "bat\t7\t425\t2975\n",
      "\n",
      "badminton shoes\t4\t425\t1700\n",
      "\n",
      "football\t4\t63\t252\n",
      "\n",
      "cricket ball\t7\t890\t6230\n",
      "\n",
      "chess board\t9\t356\t3204\n",
      "\n"
     ]
    }
   ],
   "source": [
    "view.__head__(7)\n"
   ]
  },
  {
   "cell_type": "code",
   "execution_count": 77,
   "metadata": {},
   "outputs": [
    {
     "name": "stdout",
     "output_type": "stream",
     "text": [
      "strings\t4\t890\t3560\n",
      "\n",
      "bat\t4\t356\t1424\n",
      "\n",
      "shuttle\t4\t356\t1424\n",
      "\n",
      "football\t4\t678\t2712\n",
      "\n",
      "cricket ball\t4\t567\t2268\n",
      "\n",
      "badminton shoes\t7\t425\t2975\n",
      "\n",
      "football\t4\t678\t2712\n",
      "\n",
      "football\t5\t425\t2125\n",
      "\n",
      "bat\t7\t425\t2975\n",
      "\n",
      "bat\t9\t356\t3204\n",
      "\n"
     ]
    }
   ],
   "source": [
    "view.__tail__(10)"
   ]
  },
  {
   "cell_type": "code",
   "execution_count": 79,
   "metadata": {},
   "outputs": [
    {
     "name": "stdout",
     "output_type": "stream",
     "text": [
      "grips\t4\t453\t1812\n",
      "\n"
     ]
    }
   ],
   "source": [
    "view.coloumns()"
   ]
  },
  {
   "cell_type": "markdown",
   "metadata": {},
   "source": [
    "Write a python program that will read a csv file and print the mean , median , mode for a coloum of user choice"
   ]
  },
  {
   "cell_type": "code",
   "execution_count": 105,
   "metadata": {},
   "outputs": [],
   "source": [
    "dict ={\n",
    "    'column':[],\n",
    "    'value':[]\n",
    "}\n",
    "\n",
    "def read_csv(filename):\n",
    "    try:\n",
    "        with open(filename,\"r+\") as file:\n",
    "            for line in file:\n",
    "                line = line.strip()\n",
    "                data = line.split(\",\")\n",
    "                .append(data)\n",
    "        print(a)\n",
    "    except:\n",
    "        print(\"file not found\")"
   ]
  },
  {
   "cell_type": "code",
   "execution_count": 106,
   "metadata": {},
   "outputs": [
    {
     "name": "stdout",
     "output_type": "stream",
     "text": [
      "[['\\ufeffColumn1', 'Column2', 'Column3'], ['1', '51', '101'], ['2', '52', '102'], ['3', '53', '103'], ['4', '54', '104'], ['5', '55', '105'], ['6', '56', '106'], ['7', '57', '107'], ['8', '58', '108'], ['9', '59', '109'], ['10', '60', '110']]\n"
     ]
    }
   ],
   "source": [
    "read_file()"
   ]
  },
  {
   "cell_type": "code",
   "execution_count": null,
   "metadata": {},
   "outputs": [],
   "source": [
    "file = open(filename,\"r+\")\n",
    "file_header=file.readline()\n",
    "file_content=file.readlines()\n",
    "file_header=file_header.split(\",\")\n",
    "file_content_dict = {}\n",
    "print(file_header)\n",
    "\n",
    "colcounter = 0\n",
    "for item in file_header:\n",
    "    file_content_dict[item]=[]\n",
    "\n",
    "    for row in file_content:\n",
    "        file_content_dict[item].append(row.strip().split(',')[colcounter])"
   ]
  },
  {
   "cell_type": "code",
   "execution_count": null,
   "metadata": {},
   "outputs": [],
   "source": [
    "def mean(d_list):\n",
    "    len_of_list =len(d_list)\n",
    "    sum_of_list = sum(d_list)\n",
    "    mean_val=0\n",
    "    return mean_val\n",
    "def mode(d_list):\n",
    "    unique_items = list()\n",
    "    mode_val=0\n",
    "    return mode_val\n",
    "def median(d_list):\n",
    "    median_val=0\n",
    "    return median_val\n",
    "\n",
    "file = read_file(\"draft pick from washington.csv\")\n"
   ]
  }
 ],
 "metadata": {
  "kernelspec": {
   "display_name": "base",
   "language": "python",
   "name": "python3"
  },
  "language_info": {
   "codemirror_mode": {
    "name": "ipython",
    "version": 3
   },
   "file_extension": ".py",
   "mimetype": "text/x-python",
   "name": "python",
   "nbconvert_exporter": "python",
   "pygments_lexer": "ipython3",
   "version": "3.11.4"
  }
 },
 "nbformat": 4,
 "nbformat_minor": 2
}
